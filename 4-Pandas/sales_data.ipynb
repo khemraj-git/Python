{
 "cells": [
  {
   "cell_type": "code",
   "execution_count": 1,
   "id": "1aa5cf2d-14c2-4d5b-989f-c34554d4c258",
   "metadata": {},
   "outputs": [],
   "source": [
    "import pandas as pd"
   ]
  },
  {
   "cell_type": "code",
   "execution_count": 10,
   "id": "01651ece-6b52-4a94-b367-46affc28c47d",
   "metadata": {},
   "outputs": [
    {
     "data": {
      "text/html": [
       "<div>\n",
       "<style scoped>\n",
       "    .dataframe tbody tr th:only-of-type {\n",
       "        vertical-align: middle;\n",
       "    }\n",
       "\n",
       "    .dataframe tbody tr th {\n",
       "        vertical-align: top;\n",
       "    }\n",
       "\n",
       "    .dataframe thead th {\n",
       "        text-align: right;\n",
       "    }\n",
       "</style>\n",
       "<table border=\"1\" class=\"dataframe\">\n",
       "  <thead>\n",
       "    <tr style=\"text-align: right;\">\n",
       "      <th></th>\n",
       "      <th>OrderID</th>\n",
       "      <th>CustomerName</th>\n",
       "      <th>Product</th>\n",
       "      <th>Category</th>\n",
       "      <th>Quantity</th>\n",
       "      <th>Price</th>\n",
       "      <th>OrderDate</th>\n",
       "      <th>Country</th>\n",
       "    </tr>\n",
       "  </thead>\n",
       "  <tbody>\n",
       "    <tr>\n",
       "      <th>0</th>\n",
       "      <td>1001</td>\n",
       "      <td>Alice</td>\n",
       "      <td>iPhone 13</td>\n",
       "      <td>Electronics</td>\n",
       "      <td>1</td>\n",
       "      <td>800</td>\n",
       "      <td>2022-01-15</td>\n",
       "      <td>USA</td>\n",
       "    </tr>\n",
       "    <tr>\n",
       "      <th>1</th>\n",
       "      <td>1002</td>\n",
       "      <td>Bob</td>\n",
       "      <td>T-shirt</td>\n",
       "      <td>Clothing</td>\n",
       "      <td>2</td>\n",
       "      <td>20</td>\n",
       "      <td>2022-01-17</td>\n",
       "      <td>UK</td>\n",
       "    </tr>\n",
       "    <tr>\n",
       "      <th>2</th>\n",
       "      <td>1003</td>\n",
       "      <td>Charlie</td>\n",
       "      <td>Laptop</td>\n",
       "      <td>Electronics</td>\n",
       "      <td>1</td>\n",
       "      <td>1200</td>\n",
       "      <td>2022-01-20</td>\n",
       "      <td>Canada</td>\n",
       "    </tr>\n",
       "    <tr>\n",
       "      <th>3</th>\n",
       "      <td>1004</td>\n",
       "      <td>David</td>\n",
       "      <td>Shoes</td>\n",
       "      <td>Footwear</td>\n",
       "      <td>1</td>\n",
       "      <td>50</td>\n",
       "      <td>2022-01-22</td>\n",
       "      <td>USA</td>\n",
       "    </tr>\n",
       "    <tr>\n",
       "      <th>4</th>\n",
       "      <td>1005</td>\n",
       "      <td>Eva</td>\n",
       "      <td>T-shirt</td>\n",
       "      <td>Clothing</td>\n",
       "      <td>3</td>\n",
       "      <td>20</td>\n",
       "      <td>2022-01-25</td>\n",
       "      <td>UK</td>\n",
       "    </tr>\n",
       "  </tbody>\n",
       "</table>\n",
       "</div>"
      ],
      "text/plain": [
       "   OrderID CustomerName    Product     Category  Quantity  Price  OrderDate  \\\n",
       "0     1001        Alice  iPhone 13  Electronics         1    800 2022-01-15   \n",
       "1     1002          Bob    T-shirt     Clothing         2     20 2022-01-17   \n",
       "2     1003      Charlie     Laptop  Electronics         1   1200 2022-01-20   \n",
       "3     1004        David      Shoes     Footwear         1     50 2022-01-22   \n",
       "4     1005          Eva    T-shirt     Clothing         3     20 2022-01-25   \n",
       "\n",
       "  Country  \n",
       "0     USA  \n",
       "1      UK  \n",
       "2  Canada  \n",
       "3     USA  \n",
       "4      UK  "
      ]
     },
     "execution_count": 10,
     "metadata": {},
     "output_type": "execute_result"
    }
   ],
   "source": [
    "# creating the DataFrame\n",
    "\n",
    "data = {\n",
    "    \"OrderID\": [1001, 1002, 1003, 1004, 1005, 1006, 1007, 1008],\n",
    "    \"CustomerName\": [\"Alice\", \"Bob\", \"Charlie\", \"David\", \"Eva\", \"Frank\", \"Grace\", \"Henry\"],\n",
    "    \"Product\": [\"iPhone 13\", \"T-shirt\", \"Laptop\", \"Shoes\", \"T-shirt\", \"Headphones\", \"Jacket\", \"Shoes\"],\n",
    "    \"Category\": [\"Electronics\", \"Clothing\", \"Electronics\", \"Footwear\", \"Clothing\", \"Electronics\", \"Clothing\", \"Footwear\"],\n",
    "    \"Quantity\": [1, 2, 1, 1, 3, 2, 1, 2],\n",
    "    \"Price\": [800, 20, 1200, 50, 20, 100, 80, 50],\n",
    "    \"OrderDate\": [\"2022-01-15\", \"2022-01-17\", \"2022-01-20\", \"2022-01-22\", \"2022-01-25\", \"2022-01-26\", \"2022-01-28\", \"2022-01-30\"],\n",
    "    \"Country\": [\"USA\", \"UK\", \"Canada\", \"USA\", \"UK\", \"USA\", \"Germany\", \"USA\"]\n",
    "}\n",
    "\n",
    "df = pd.DataFrame(data)\n",
    "df[\"OrderDate\"] = pd.to_datetime(df[\"OrderDate\"])\n",
    "df.head()\n"
   ]
  },
  {
   "cell_type": "code",
   "execution_count": 12,
   "id": "2012665d-b91d-4a01-8fb7-98a9f67d9929",
   "metadata": {},
   "outputs": [
    {
     "data": {
      "text/html": [
       "<div>\n",
       "<style scoped>\n",
       "    .dataframe tbody tr th:only-of-type {\n",
       "        vertical-align: middle;\n",
       "    }\n",
       "\n",
       "    .dataframe tbody tr th {\n",
       "        vertical-align: top;\n",
       "    }\n",
       "\n",
       "    .dataframe thead th {\n",
       "        text-align: right;\n",
       "    }\n",
       "</style>\n",
       "<table border=\"1\" class=\"dataframe\">\n",
       "  <thead>\n",
       "    <tr style=\"text-align: right;\">\n",
       "      <th></th>\n",
       "      <th>OrderID</th>\n",
       "      <th>CustomerName</th>\n",
       "      <th>Product</th>\n",
       "      <th>Category</th>\n",
       "      <th>Quantity</th>\n",
       "      <th>Price</th>\n",
       "      <th>OrderDate</th>\n",
       "      <th>Country</th>\n",
       "      <th>TotalSale</th>\n",
       "    </tr>\n",
       "  </thead>\n",
       "  <tbody>\n",
       "    <tr>\n",
       "      <th>0</th>\n",
       "      <td>1001</td>\n",
       "      <td>Alice</td>\n",
       "      <td>iPhone 13</td>\n",
       "      <td>Electronics</td>\n",
       "      <td>1</td>\n",
       "      <td>800</td>\n",
       "      <td>2022-01-15</td>\n",
       "      <td>USA</td>\n",
       "      <td>800</td>\n",
       "    </tr>\n",
       "    <tr>\n",
       "      <th>1</th>\n",
       "      <td>1002</td>\n",
       "      <td>Bob</td>\n",
       "      <td>T-shirt</td>\n",
       "      <td>Clothing</td>\n",
       "      <td>2</td>\n",
       "      <td>20</td>\n",
       "      <td>2022-01-17</td>\n",
       "      <td>UK</td>\n",
       "      <td>40</td>\n",
       "    </tr>\n",
       "    <tr>\n",
       "      <th>2</th>\n",
       "      <td>1003</td>\n",
       "      <td>Charlie</td>\n",
       "      <td>Laptop</td>\n",
       "      <td>Electronics</td>\n",
       "      <td>1</td>\n",
       "      <td>1200</td>\n",
       "      <td>2022-01-20</td>\n",
       "      <td>Canada</td>\n",
       "      <td>1200</td>\n",
       "    </tr>\n",
       "    <tr>\n",
       "      <th>3</th>\n",
       "      <td>1004</td>\n",
       "      <td>David</td>\n",
       "      <td>Shoes</td>\n",
       "      <td>Footwear</td>\n",
       "      <td>1</td>\n",
       "      <td>50</td>\n",
       "      <td>2022-01-22</td>\n",
       "      <td>USA</td>\n",
       "      <td>50</td>\n",
       "    </tr>\n",
       "    <tr>\n",
       "      <th>4</th>\n",
       "      <td>1005</td>\n",
       "      <td>Eva</td>\n",
       "      <td>T-shirt</td>\n",
       "      <td>Clothing</td>\n",
       "      <td>3</td>\n",
       "      <td>20</td>\n",
       "      <td>2022-01-25</td>\n",
       "      <td>UK</td>\n",
       "      <td>60</td>\n",
       "    </tr>\n",
       "  </tbody>\n",
       "</table>\n",
       "</div>"
      ],
      "text/plain": [
       "   OrderID CustomerName    Product     Category  Quantity  Price  OrderDate  \\\n",
       "0     1001        Alice  iPhone 13  Electronics         1    800 2022-01-15   \n",
       "1     1002          Bob    T-shirt     Clothing         2     20 2022-01-17   \n",
       "2     1003      Charlie     Laptop  Electronics         1   1200 2022-01-20   \n",
       "3     1004        David      Shoes     Footwear         1     50 2022-01-22   \n",
       "4     1005          Eva    T-shirt     Clothing         3     20 2022-01-25   \n",
       "\n",
       "  Country  TotalSale  \n",
       "0     USA        800  \n",
       "1      UK         40  \n",
       "2  Canada       1200  \n",
       "3     USA         50  \n",
       "4      UK         60  "
      ]
     },
     "execution_count": 12,
     "metadata": {},
     "output_type": "execute_result"
    }
   ],
   "source": [
    "df[\"TotalSale\"] = df[\"Quantity\"] * df[\"Price\"]\n",
    "df.head()\n"
   ]
  },
  {
   "cell_type": "code",
   "execution_count": 13,
   "id": "25c9e387-bb60-4340-a7c4-1b4d82fed876",
   "metadata": {},
   "outputs": [
    {
     "name": "stdout",
     "output_type": "stream",
     "text": [
      "Total Revenue: $ 2530\n"
     ]
    }
   ],
   "source": [
    "# total revenue\n",
    "print(\"Total Revenue: $\", df[\"TotalSale\"].sum())\n"
   ]
  },
  {
   "cell_type": "code",
   "execution_count": 15,
   "id": "6de906d8-f157-440e-b1e1-e302b316abb0",
   "metadata": {},
   "outputs": [
    {
     "data": {
      "text/plain": [
       "Country\n",
       "Canada     1200\n",
       "Germany      80\n",
       "UK          100\n",
       "USA        1150\n",
       "Name: TotalSale, dtype: int64"
      ]
     },
     "execution_count": 15,
     "metadata": {},
     "output_type": "execute_result"
    }
   ],
   "source": [
    "# sorting data by country\n",
    "df.groupby(\"Country\")[\"TotalSale\"].sum()\n"
   ]
  },
  {
   "cell_type": "code",
   "execution_count": 17,
   "id": "9ec0bd1e-a7f6-4732-a3c3-a2a52f8a5478",
   "metadata": {},
   "outputs": [
    {
     "data": {
      "text/plain": [
       "Product\n",
       "T-shirt       5\n",
       "Shoes         3\n",
       "Headphones    2\n",
       "Jacket        1\n",
       "Laptop        1\n",
       "iPhone 13     1\n",
       "Name: Quantity, dtype: int64"
      ]
     },
     "execution_count": 17,
     "metadata": {},
     "output_type": "execute_result"
    }
   ],
   "source": [
    "# most sold products\n",
    "df.groupby(\"Product\")[\"Quantity\"].sum().sort_values(ascending=False)\n"
   ]
  },
  {
   "cell_type": "code",
   "execution_count": 18,
   "id": "5fcf760e-a1bb-4ee8-a0ab-72a2ca2b3785",
   "metadata": {},
   "outputs": [
    {
     "data": {
      "text/html": [
       "<div>\n",
       "<style scoped>\n",
       "    .dataframe tbody tr th:only-of-type {\n",
       "        vertical-align: middle;\n",
       "    }\n",
       "\n",
       "    .dataframe tbody tr th {\n",
       "        vertical-align: top;\n",
       "    }\n",
       "\n",
       "    .dataframe thead th {\n",
       "        text-align: right;\n",
       "    }\n",
       "</style>\n",
       "<table border=\"1\" class=\"dataframe\">\n",
       "  <thead>\n",
       "    <tr style=\"text-align: right;\">\n",
       "      <th></th>\n",
       "      <th>OrderID</th>\n",
       "      <th>CustomerName</th>\n",
       "      <th>Product</th>\n",
       "      <th>Category</th>\n",
       "      <th>Quantity</th>\n",
       "      <th>Price</th>\n",
       "      <th>OrderDate</th>\n",
       "      <th>Country</th>\n",
       "      <th>TotalSale</th>\n",
       "    </tr>\n",
       "  </thead>\n",
       "  <tbody>\n",
       "    <tr>\n",
       "      <th>1</th>\n",
       "      <td>1002</td>\n",
       "      <td>Bob</td>\n",
       "      <td>T-shirt</td>\n",
       "      <td>Clothing</td>\n",
       "      <td>2</td>\n",
       "      <td>20</td>\n",
       "      <td>2022-01-17</td>\n",
       "      <td>UK</td>\n",
       "      <td>40</td>\n",
       "    </tr>\n",
       "    <tr>\n",
       "      <th>4</th>\n",
       "      <td>1005</td>\n",
       "      <td>Eva</td>\n",
       "      <td>T-shirt</td>\n",
       "      <td>Clothing</td>\n",
       "      <td>3</td>\n",
       "      <td>20</td>\n",
       "      <td>2022-01-25</td>\n",
       "      <td>UK</td>\n",
       "      <td>60</td>\n",
       "    </tr>\n",
       "    <tr>\n",
       "      <th>5</th>\n",
       "      <td>1006</td>\n",
       "      <td>Frank</td>\n",
       "      <td>Headphones</td>\n",
       "      <td>Electronics</td>\n",
       "      <td>2</td>\n",
       "      <td>100</td>\n",
       "      <td>2022-01-26</td>\n",
       "      <td>USA</td>\n",
       "      <td>200</td>\n",
       "    </tr>\n",
       "    <tr>\n",
       "      <th>7</th>\n",
       "      <td>1008</td>\n",
       "      <td>Henry</td>\n",
       "      <td>Shoes</td>\n",
       "      <td>Footwear</td>\n",
       "      <td>2</td>\n",
       "      <td>50</td>\n",
       "      <td>2022-01-30</td>\n",
       "      <td>USA</td>\n",
       "      <td>100</td>\n",
       "    </tr>\n",
       "  </tbody>\n",
       "</table>\n",
       "</div>"
      ],
      "text/plain": [
       "   OrderID CustomerName     Product     Category  Quantity  Price  OrderDate  \\\n",
       "1     1002          Bob     T-shirt     Clothing         2     20 2022-01-17   \n",
       "4     1005          Eva     T-shirt     Clothing         3     20 2022-01-25   \n",
       "5     1006        Frank  Headphones  Electronics         2    100 2022-01-26   \n",
       "7     1008        Henry       Shoes     Footwear         2     50 2022-01-30   \n",
       "\n",
       "  Country  TotalSale  \n",
       "1      UK         40  \n",
       "4      UK         60  \n",
       "5     USA        200  \n",
       "7     USA        100  "
      ]
     },
     "execution_count": 18,
     "metadata": {},
     "output_type": "execute_result"
    }
   ],
   "source": [
    "# sorting the data by which has order>1\n",
    "df[df[\"Quantity\"] > 1]\n"
   ]
  },
  {
   "cell_type": "code",
   "execution_count": 19,
   "id": "038bd319-dc17-49a7-ad21-f04cde61204e",
   "metadata": {},
   "outputs": [
    {
     "data": {
      "text/plain": [
       "Category\n",
       "Clothing        180\n",
       "Electronics    2200\n",
       "Footwear        150\n",
       "Name: TotalSale, dtype: int64"
      ]
     },
     "execution_count": 19,
     "metadata": {},
     "output_type": "execute_result"
    }
   ],
   "source": [
    "# sales by category\n",
    "df.groupby(\"Category\")[\"TotalSale\"].sum()\n"
   ]
  },
  {
   "cell_type": "code",
   "execution_count": null,
   "id": "f4cd658e-8979-4991-bd23-d0fffb46ea4a",
   "metadata": {},
   "outputs": [],
   "source": []
  }
 ],
 "metadata": {
  "kernelspec": {
   "display_name": "Python 3 (ipykernel)",
   "language": "python",
   "name": "python3"
  },
  "language_info": {
   "codemirror_mode": {
    "name": "ipython",
    "version": 3
   },
   "file_extension": ".py",
   "mimetype": "text/x-python",
   "name": "python",
   "nbconvert_exporter": "python",
   "pygments_lexer": "ipython3",
   "version": "3.13.5"
  }
 },
 "nbformat": 4,
 "nbformat_minor": 5
}
