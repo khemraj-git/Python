{
 "cells": [
  {
   "cell_type": "code",
   "execution_count": null,
   "id": "1aa5cf2d-14c2-4d5b-989f-c34554d4c258",
   "metadata": {},
   "outputs": [],
   "source": []
  }
 ],
 "metadata": {
  "kernelspec": {
   "display_name": "",
   "name": ""
  },
  "language_info": {
   "name": ""
  }
 },
 "nbformat": 4,
 "nbformat_minor": 5
}
